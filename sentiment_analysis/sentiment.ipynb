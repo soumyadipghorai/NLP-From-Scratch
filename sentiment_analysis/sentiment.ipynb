{
 "cells": [
  {
   "cell_type": "code",
   "execution_count": 1,
   "metadata": {},
   "outputs": [],
   "source": [
    "import random\n",
    "import numpy as np\n",
    "import pandas as pd\n",
    "import matplotlib.pyplot as plt\n",
    "from sklearn.model_selection import train_test_split\n",
    "from sklearn.linear_model import Perceptron\n",
    "from sklearn import preprocessing\n",
    "from sklearn.linear_model import SGDClassifier\n",
    "from sklearn.preprocessing import StandardScaler\n",
    "from sklearn.pipeline import make_pipeline\n",
    "from sklearn.metrics import confusion_matrix"
   ]
  },
  {
   "cell_type": "code",
   "execution_count": 2,
   "metadata": {},
   "outputs": [],
   "source": [
    "# extract positive words \n",
    "with open('positive.txt') as positive_file : \n",
    "    positive = positive_file.read()\n",
    "\n",
    "positive = list(positive.splitlines())\n",
    "\n",
    "# extract negative words \n",
    "with open('negative.txt') as negative_file : \n",
    "    negative = negative_file.read()\n",
    "\n",
    "negative = list(negative.splitlines())"
   ]
  },
  {
   "cell_type": "code",
   "execution_count": 4,
   "metadata": {},
   "outputs": [
    {
     "name": "stdout",
     "output_type": "stream",
     "text": [
      "Number of positive words:  2006\n",
      "Number of negative words:  4783\n",
      "Total number of words:  6789\n"
     ]
    }
   ],
   "source": [
    "print(\"Number of positive words: \", len(positive)) \n",
    "print(\"Number of negative words: \", len(negative)) \n",
    "print(\"Total number of words: \", len(positive) + len(negative)) "
   ]
  },
  {
   "cell_type": "code",
   "execution_count": 5,
   "metadata": {},
   "outputs": [
    {
     "name": "stdout",
     "output_type": "stream",
     "text": [
      "First ten words in Positive List: \n",
      " ['a+', 'abound', 'abounds', 'abundance', 'abundant', 'accessable', 'accessible', 'acclaim', 'acclaimed', 'acclamation']\n",
      "First ten words in Negative List: \n",
      " ['2-faced', '2-faces', 'abnormal', 'abolish', 'abominable', 'abominably', 'abominate', 'abomination', 'abort', 'aborted']\n"
     ]
    }
   ],
   "source": [
    "print(\"First ten words in Positive List: \\n\", positive[:10])\n",
    "print(\"First ten words in Negative List: \\n\", negative[:10])"
   ]
  },
  {
   "cell_type": "code",
   "execution_count": 6,
   "metadata": {},
   "outputs": [
    {
     "name": "stdout",
     "output_type": "stream",
     "text": [
      "First ten words in Positive List: \n",
      " ['abound', 'abounds', 'abundance', 'abundant', 'accessable', 'accessible', 'acclaim', 'acclaimed', 'acclamation', 'accolade']\n",
      "First ten words in Negative List: \n",
      " ['abnormal', 'abolish', 'abominable', 'abominably', 'abominate', 'abomination', 'abort', 'aborted', 'aborts', 'abrade']\n",
      "Total number of words:  6562\n"
     ]
    }
   ],
   "source": [
    "# Include words that contain only alphabets\n",
    "#* Total words for consideration shall reduce from 6789 to 6562\n",
    "positive_words = [w for w in positive if w.isalpha()]\n",
    "negative_words = [w for w in negative if w.isalpha()]\n",
    "print(\"First ten words in Positive List: \\n\", positive_words[:10])\n",
    "print(\"First ten words in Negative List: \\n\", negative_words[:10])\n",
    "print(\"Total number of words: \", len(positive_words) + len(negative_words))"
   ]
  },
  {
   "cell_type": "code",
   "execution_count": 7,
   "metadata": {},
   "outputs": [
    {
     "ename": "FileNotFoundError",
     "evalue": "[Errno 2] No such file or directory: 'glove.6B.50d.txt'",
     "output_type": "error",
     "traceback": [
      "\u001b[1;31m---------------------------------------------------------------------------\u001b[0m",
      "\u001b[1;31mFileNotFoundError\u001b[0m                         Traceback (most recent call last)",
      "\u001b[1;32mc:\\Users\\ghora\\Desktop\\vscode\\NLP\\sentiment_analysis\\sentiment.ipynb Cell 6\u001b[0m line \u001b[0;36m1\n\u001b[0;32m      <a href='vscode-notebook-cell:/c%3A/Users/ghora/Desktop/vscode/NLP/sentiment_analysis/sentiment.ipynb#W5sZmlsZQ%3D%3D?line=0'>1</a>\u001b[0m \u001b[39m\"\"\"\u001b[39;00m\n\u001b[0;32m      <a href='vscode-notebook-cell:/c%3A/Users/ghora/Desktop/vscode/NLP/sentiment_analysis/sentiment.ipynb#W5sZmlsZQ%3D%3D?line=1'>2</a>\u001b[0m \u001b[39mVisit https://nlp.stanford.edu/projects/glove/\u001b[39;00m\n\u001b[0;32m      <a href='vscode-notebook-cell:/c%3A/Users/ghora/Desktop/vscode/NLP/sentiment_analysis/sentiment.ipynb#W5sZmlsZQ%3D%3D?line=2'>3</a>\u001b[0m \n\u001b[1;32m   (...)\u001b[0m\n\u001b[0;32m     <a href='vscode-notebook-cell:/c%3A/Users/ghora/Desktop/vscode/NLP/sentiment_analysis/sentiment.ipynb#W5sZmlsZQ%3D%3D?line=11'>12</a>\u001b[0m \u001b[39mOpen the file glove.6B.50d.txt\u001b[39;00m\n\u001b[0;32m     <a href='vscode-notebook-cell:/c%3A/Users/ghora/Desktop/vscode/NLP/sentiment_analysis/sentiment.ipynb#W5sZmlsZQ%3D%3D?line=12'>13</a>\u001b[0m \u001b[39m\"\"\"\u001b[39;00m\n\u001b[1;32m---> <a href='vscode-notebook-cell:/c%3A/Users/ghora/Desktop/vscode/NLP/sentiment_analysis/sentiment.ipynb#W5sZmlsZQ%3D%3D?line=13'>14</a>\u001b[0m f \u001b[39m=\u001b[39m \u001b[39mopen\u001b[39;49m(\u001b[39m'\u001b[39;49m\u001b[39mglove.6B.50d.txt\u001b[39;49m\u001b[39m'\u001b[39;49m, encoding \u001b[39m=\u001b[39;49m \u001b[39m'\u001b[39;49m\u001b[39mutf-8\u001b[39;49m\u001b[39m'\u001b[39;49m)\n\u001b[0;32m     <a href='vscode-notebook-cell:/c%3A/Users/ghora/Desktop/vscode/NLP/sentiment_analysis/sentiment.ipynb#W5sZmlsZQ%3D%3D?line=14'>15</a>\u001b[0m emb_dict \u001b[39m=\u001b[39m {}\n",
      "File \u001b[1;32m~\\AppData\\Roaming\\Python\\Python312\\site-packages\\IPython\\core\\interactiveshell.py:308\u001b[0m, in \u001b[0;36m_modified_open\u001b[1;34m(file, *args, **kwargs)\u001b[0m\n\u001b[0;32m    301\u001b[0m \u001b[39mif\u001b[39;00m file \u001b[39min\u001b[39;00m {\u001b[39m0\u001b[39m, \u001b[39m1\u001b[39m, \u001b[39m2\u001b[39m}:\n\u001b[0;32m    302\u001b[0m     \u001b[39mraise\u001b[39;00m \u001b[39mValueError\u001b[39;00m(\n\u001b[0;32m    303\u001b[0m         \u001b[39mf\u001b[39m\u001b[39m\"\u001b[39m\u001b[39mIPython won\u001b[39m\u001b[39m'\u001b[39m\u001b[39mt let you open fd=\u001b[39m\u001b[39m{\u001b[39;00mfile\u001b[39m}\u001b[39;00m\u001b[39m by default \u001b[39m\u001b[39m\"\u001b[39m\n\u001b[0;32m    304\u001b[0m         \u001b[39m\"\u001b[39m\u001b[39mas it is likely to crash IPython. If you know what you are doing, \u001b[39m\u001b[39m\"\u001b[39m\n\u001b[0;32m    305\u001b[0m         \u001b[39m\"\u001b[39m\u001b[39myou can use builtins\u001b[39m\u001b[39m'\u001b[39m\u001b[39m open.\u001b[39m\u001b[39m\"\u001b[39m\n\u001b[0;32m    306\u001b[0m     )\n\u001b[1;32m--> 308\u001b[0m \u001b[39mreturn\u001b[39;00m io_open(file, \u001b[39m*\u001b[39;49margs, \u001b[39m*\u001b[39;49m\u001b[39m*\u001b[39;49mkwargs)\n",
      "\u001b[1;31mFileNotFoundError\u001b[0m: [Errno 2] No such file or directory: 'glove.6B.50d.txt'"
     ]
    }
   ],
   "source": [
    "\"\"\"\n",
    "Visit https://nlp.stanford.edu/projects/glove/\n",
    "\n",
    "GloVe is an unsupervised learning algorithm for obtaining vector representations for words. \n",
    "Training is performed on aggregated global word-word co-occurrence statistics from a corpus, \n",
    "and the resulting representations showcase interesting linear substructures of the word vector space.\n",
    "\n",
    "Download glove.6B.zip available under download pre-trained word vectors\n",
    "Unzip the file to get 4 text files: glove.6B.50d.txt, glove.6B.100d.txt, glove.6B.200d.txt, glove.6B.300d.txt\n",
    "Store these files in the current working directory\n",
    "\n",
    "Open the file glove.6B.50d.txt\n",
    "\"\"\"\n",
    "f = open('glove.6B.50d.txt', encoding = 'utf-8')\n",
    "emb_dict = {}\n"
   ]
  },
  {
   "cell_type": "code",
   "execution_count": null,
   "metadata": {},
   "outputs": [],
   "source": [
    "def generate_data(positive, negative, glove) : \n",
    "    positive_words, negative_words = [], []\n",
    "    for pos_word in positive : \n",
    "        positive_words.append(pos_word.rstrip())\n",
    "    for neg_word in negative : \n",
    "        negative_words.append(neg_word.rstrip())\n",
    "\n",
    "    for line in glove : \n",
    "        values = line.split()\n",
    "        word = values[0]\n",
    "        vector = np.asarray(values[1:], dtype = 'float32')\n",
    "        if word  in positive_words : \n",
    "            vector = np.append(vector, [1.0])\n",
    "            emb_dict[word] = vector \n",
    "        elif word in negative_words : \n",
    "            vector = np.append(vector, [0.0])\n",
    "            emb_dict[word] = vector\n",
    "\n",
    "    dump(emb_dict, data_dir, \"SentiWordEmbedding.bin\")"
   ]
  },
  {
   "cell_type": "code",
   "execution_count": null,
   "metadata": {},
   "outputs": [],
   "source": [
    "class TrainPerceptron : \n",
    "    def __init__(self, eta = 0.001, epochs = 1000) : \n",
    "        self.eta = eta \n",
    "        self.epochs = epochs\n",
    "    \n",
    "    def combine_input_and_weights(self, X) : \n",
    "        return np.dot(X, self.weights)\n",
    "    \n",
    "    def build_model(self, X, y) : \n",
    "        X = self.normalize_feature_values(X)\n",
    "        self.initialize_weights(X)\n",
    "        for i in range(self.epochs) :\n",
    "            predicted_output = self.activation_function(\n",
    "                self.combine_input_and_weights(X)\n",
    "            )\n",
    "            errors = y - predicted_output\n",
    "            self.weights += (self.eta * X.T.dot(errors))\n",
    "            cost_function = (errors **2).sum()/2.0 \n",
    "            self.cost.append(cost_function)\n",
    "        return self \n",
    "    \n",
    "    def predict(self, X) : \n",
    "        X = self.normalize_feature_values(X)\n",
    "        return np.where(self.activation_function(\n",
    "            self.combine_input_and_weights(X)\n",
    "        ) >= 0.0, 1, 0)\n",
    "    \n",
    "classifier = TrainPerceptron(eta = 0.0001, epochs = 5000)\n",
    "classifier.build_model(np.array(X), np.array(y))\n",
    "\n",
    "test = sen_embedding_dict['terrible']\n",
    "sentiment = classifier.predict(X_test)\n",
    "print(sentiment)"
   ]
  }
 ],
 "metadata": {
  "kernelspec": {
   "display_name": "Python 3",
   "language": "python",
   "name": "python3"
  },
  "language_info": {
   "codemirror_mode": {
    "name": "ipython",
    "version": 3
   },
   "file_extension": ".py",
   "mimetype": "text/x-python",
   "name": "python",
   "nbconvert_exporter": "python",
   "pygments_lexer": "ipython3",
   "version": "3.12.0"
  }
 },
 "nbformat": 4,
 "nbformat_minor": 2
}
