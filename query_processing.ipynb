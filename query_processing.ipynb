{
 "cells": [
  {
   "cell_type": "code",
   "execution_count": 2,
   "metadata": {},
   "outputs": [
    {
     "ename": "ModuleNotFoundError",
     "evalue": "No module named 'gensim'",
     "output_type": "error",
     "traceback": [
      "\u001b[1;31m---------------------------------------------------------------------------\u001b[0m",
      "\u001b[1;31mModuleNotFoundError\u001b[0m                       Traceback (most recent call last)",
      "\u001b[1;32mc:\\Users\\ghora\\Desktop\\vscode\\NLP\\query_processing.ipynb Cell 1\u001b[0m line \u001b[0;36m2\n\u001b[0;32m      <a href='vscode-notebook-cell:/c%3A/Users/ghora/Desktop/vscode/NLP/query_processing.ipynb#W0sZmlsZQ%3D%3D?line=0'>1</a>\u001b[0m \u001b[39mimport\u001b[39;00m \u001b[39mos\u001b[39;00m\n\u001b[1;32m----> <a href='vscode-notebook-cell:/c%3A/Users/ghora/Desktop/vscode/NLP/query_processing.ipynb#W0sZmlsZQ%3D%3D?line=1'>2</a>\u001b[0m \u001b[39mimport\u001b[39;00m \u001b[39mgensim\u001b[39;00m\n\u001b[0;32m      <a href='vscode-notebook-cell:/c%3A/Users/ghora/Desktop/vscode/NLP/query_processing.ipynb#W0sZmlsZQ%3D%3D?line=2'>3</a>\u001b[0m \u001b[39mfrom\u001b[39;00m \u001b[39mgensim\u001b[39;00m\u001b[39m.\u001b[39;00m\u001b[39mmodels\u001b[39;00m \u001b[39mimport\u001b[39;00m LsiModel\n\u001b[0;32m      <a href='vscode-notebook-cell:/c%3A/Users/ghora/Desktop/vscode/NLP/query_processing.ipynb#W0sZmlsZQ%3D%3D?line=3'>4</a>\u001b[0m \u001b[39mfrom\u001b[39;00m \u001b[39mgensim\u001b[39;00m \u001b[39mimport\u001b[39;00m models\n",
      "\u001b[1;31mModuleNotFoundError\u001b[0m: No module named 'gensim'"
     ]
    }
   ],
   "source": [
    "import os\n",
    "import gensim\n",
    "from gensim.models import LsiModel\n",
    "from gensim import models\n",
    "from gensim import corpora\n",
    "from gensim.utils import lemmatize\n",
    "import nltk\n",
    "from nltk.stem import PorterStemmer\n",
    "from nltk.corpus import stopwords\n",
    "from gensim.parsing.preprocessing import remove_stopwords, stem_text\n",
    "from gensim.parsing.preprocessing import strip_numeric\n",
    "import pandas as pd\n",
    "from gensim import similaritiesc"
   ]
  },
  {
   "cell_type": "code",
   "execution_count": null,
   "metadata": {},
   "outputs": [],
   "source": [
    "model_dir = '/home/ramaseshan/temp/'\n",
    "physics_corpus_dir = 'https://raw.githubusercontent.com/Ramaseshanr/anlp/master/corpus/phy_corpus.txt'\n",
    "\n",
    "\n",
    "cor = pd.read_csv(physics_corpus_dir, sep='\\n', header=None)[0]\n",
    "\n",
    "\n",
    "def preprocessing():\n",
    "    for document in cor:\n",
    "        doc = strip_numeric(stem_text(document))\n",
    "        yield gensim.utils.tokenize(doc, lower=True)\n",
    "\n",
    "texts = preprocessing()\n",
    "dictionary = corpora.Dictionary(texts)\n",
    "dictionary.filter_extremes(no_below=1, keep_n=700)\n",
    "\n",
    "doc_term_matrix = [dictionary.doc2bow(tokens) for tokens in preprocessing()]\n",
    "tfidf = models.TfidfModel(doc_term_matrix)\n",
    "corpus_tfidf = tfidf[doc_term_matrix]\n",
    "\n",
    "lsi = models.LsiModel(corpus_tfidf, id2word=dictionary, num_topics=1)  # initialize an LSI transformation\n",
    "doc = 'car acceleration speed far'\n",
    "vec_bow = dictionary.doc2bow(doc.lower().split())\n",
    "\n",
    "vec_lsi = lsi[vec_bow]  # convert the query to LSI space\n",
    "index = similarities.MatrixSimilarity(lsi[doc_term_matrix])\n",
    "unsorted_similarity = index[vec_lsi]\n",
    "sorted_similarity = sorted(enumerate(unsorted_similarity), key=lambda item: -item[1])\n",
    "for index, similarity in sorted_similarity:\n",
    "    print(similarity, cor[index])"
   ]
  }
 ],
 "metadata": {
  "kernelspec": {
   "display_name": "Python 3",
   "language": "python",
   "name": "python3"
  },
  "language_info": {
   "codemirror_mode": {
    "name": "ipython",
    "version": 3
   },
   "file_extension": ".py",
   "mimetype": "text/x-python",
   "name": "python",
   "nbconvert_exporter": "python",
   "pygments_lexer": "ipython3",
   "version": "3.12.0"
  }
 },
 "nbformat": 4,
 "nbformat_minor": 2
}
