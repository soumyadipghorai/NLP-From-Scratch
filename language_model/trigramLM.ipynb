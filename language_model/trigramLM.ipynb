{
 "cells": [
  {
   "cell_type": "code",
   "execution_count": 1,
   "metadata": {},
   "outputs": [],
   "source": [
    "import nltk\n",
    "from nltk import trigrams\n",
    "\n",
    "import matplotlib.pyplot as plt; plt.rcdefaults()\n",
    "import numpy as np\n",
    "import matplotlib.pyplot as plt\n",
    "\n",
    "import collections\n",
    "from collections import Counter\n",
    "from nltk.corpus.reader.plaintext import PlaintextCorpusReader"
   ]
  },
  {
   "cell_type": "code",
   "execution_count": 2,
   "metadata": {},
   "outputs": [
    {
     "name": "stderr",
     "output_type": "stream",
     "text": [
      "[nltk_data] Downloading package punkt to\n",
      "[nltk_data]     C:\\Users\\ghora\\AppData\\Roaming\\nltk_data...\n",
      "[nltk_data]   Package punkt is already up-to-date!\n"
     ]
    },
    {
     "data": {
      "text/plain": [
       "True"
      ]
     },
     "execution_count": 2,
     "metadata": {},
     "output_type": "execute_result"
    }
   ],
   "source": [
    "import nltk\n",
    "nltk.download('punkt')"
   ]
  },
  {
   "cell_type": "code",
   "execution_count": 3,
   "metadata": {},
   "outputs": [
    {
     "name": "stderr",
     "output_type": "stream",
     "text": [
      "<>:2: SyntaxWarning: invalid escape sequence '\\.'\n",
      "<>:2: SyntaxWarning: invalid escape sequence '\\.'\n",
      "C:\\Users\\ghora\\AppData\\Local\\Temp\\ipykernel_33632\\500354037.py:2: SyntaxWarning: invalid escape sequence '\\.'\n",
      "  your_corpus = PlaintextCorpusReader(corpusdir, '.*\\.txt')\n"
     ]
    }
   ],
   "source": [
    "corpusdir = '../text_docs/'  # point to the Directory of corpus.\n",
    "your_corpus = PlaintextCorpusReader(corpusdir, '.*\\.txt')"
   ]
  },
  {
   "cell_type": "code",
   "execution_count": 4,
   "metadata": {},
   "outputs": [],
   "source": [
    "def build_trigram_model():\n",
    "    trigram_model = collections.defaultdict(lambda: collections.defaultdict(lambda: 0))\n",
    "    #for sentence in gutenberg.sents(\"austen-emma.txt\"):\n",
    "\n",
    "    for sentence in your_corpus.sents():\n",
    "        sentence = [word.lower() for word in sentence if word.isalpha()]  # get alpha only\n",
    "\n",
    "        for w1, w2, w3 in trigrams(sentence, pad_right=True, pad_left=True):\n",
    "            trigram_model[(w1, w2)][w3] += 1\n",
    "\n",
    "        for w1_w2 in trigram_model:\n",
    "            trigram_count_4_w1w2 = float(sum(trigram_model[w1_w2].values()))\n",
    "            for w3 in trigram_model[w1_w2]:\n",
    "                trigram_model[w1_w2][w3] /= trigram_count_4_w1w2\n",
    "\n",
    "    return trigram_model"
   ]
  },
  {
   "cell_type": "code",
   "execution_count": 5,
   "metadata": {},
   "outputs": [
    {
     "data": {
      "image/png": "[encoded data removed]",
      "text/plain": [
       "<Figure size 640x480 with 1 Axes>"
      ]
     },
     "metadata": {},
     "output_type": "display_data"
    }
   ],
   "source": [
    "def predict_next_word(w1,w2):\n",
    "    model = build_trigram_model()\n",
    "    next_word = model[(w1,w2)]\n",
    "    predicted_words = Counter(next_word).most_common(10)\n",
    "\n",
    "\n",
    "    top10Predicted_words = list(zip(*predicted_words))[0]\n",
    "    probability_score = list(zip(*predicted_words))[1]\n",
    "    x_pos = np.arange(len(top10Predicted_words))\n",
    "\n",
    "    # calculate slope and intercept for the linear trend line\n",
    "    slope, intercept = np.polyfit(x_pos, probability_score, 1)\n",
    "\n",
    "    plt.bar(x_pos, probability_score,align='center')\n",
    "    plt.xticks(x_pos, top10Predicted_words)\n",
    "    plt.title('Predicted words for  '+ w1 + ' ' + w2)\n",
    "    plt.ylabel('Probability Score')\n",
    "    plt.xlabel('Predicted Words')\n",
    "    plt.show()\n",
    "\n",
    "\n",
    "predict_next_word('how', 'far')\n",
    "# so we choose \"did\" after \"how far\" "
   ]
  },
  {
   "cell_type": "code",
   "execution_count": null,
   "metadata": {},
   "outputs": [],
   "source": []
  }
 ],
 "metadata": {
  "kernelspec": {
   "display_name": "Python 3",
   "language": "python",
   "name": "python3"
  },
  "language_info": {
   "codemirror_mode": {
    "name": "ipython",
    "version": 3
   },
   "file_extension": ".py",
   "mimetype": "text/x-python",
   "name": "python",
   "nbconvert_exporter": "python",
   "pygments_lexer": "ipython3",
   "version": "3.12.0"
  }
 },
 "nbformat": 4,
 "nbformat_minor": 2
}
